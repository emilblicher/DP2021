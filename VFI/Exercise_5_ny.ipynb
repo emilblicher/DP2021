{
 "cells": [
  {
   "cell_type": "code",
   "execution_count": 1,
   "metadata": {},
   "outputs": [],
   "source": [
    "# magics: ensures that any changes to the modules loaded below will be re-loaded automatically\n",
    "%load_ext autoreload\n",
    "%autoreload 2\n",
    "\n",
    "# load general packages\n",
    "import numpy as np\n",
    "import matplotlib.pyplot as plt\n",
    "plt.style.use('seaborn-whitegrid')\n",
    "\n",
    "# load modules related to this exercise\n",
    "import tools_Exercise_1_5 as tools\n",
    "import Exercise_5_ny as model\n"
   ]
  },
  {
   "cell_type": "markdown",
   "metadata": {},
   "source": [
    "# Exercise 5 [L3]: Gaussian Shock\n",
    "\n",
    "## Original model\n",
    "\n",
    "Consider the model\n",
    "$$\\begin{eqnarray*}\n",
    "V_{t}(M_{t}) & = & \\max_{C_{t}}\\left\\{ \\frac{C_{t}^{1-\\rho}}{1-\\rho}+\\beta\\mathbb{E}_{t}\\left[V_{t+1}(M_{t+1})\\right]\\right\\} \\\\\n",
    " & \\text{s.t.}\\\\\n",
    "M_{t+1} & = & R(M_{t}-C_{t})+Y_{t+1}\\\\\n",
    "Y_{t+1} & = & \\exp(\\xi_{t+1})\\\\\n",
    "\\xi_{t+1} & = & \\mathcal{N}(0,\\sigma_{\\xi}^{2})\\\\\n",
    "A_{t}=M_{t}-C_{t} & \\geq & 0\n",
    "\\end{eqnarray*}$$\n",
    "\n",
    "for $T=10$, $\\beta=0.98$, $\\rho=0.5$, $R=1.0/\\beta$, and $\\sigma_{\\xi}=0.2$."
   ]
  },
  {
   "cell_type": "code",
   "execution_count": null,
   "metadata": {},
   "outputs": [],
   "source": []
  },
  {
   "cell_type": "markdown",
   "metadata": {},
   "source": [
    "### 1. Solve it using Gauss-Hermite quadrature for evaluating the expectation (see algorithm 10 in lecture 3) "
   ]
  },
  {
   "cell_type": "code",
   "execution_count": 2,
   "metadata": {},
   "outputs": [],
   "source": [
    "# Set-up\n",
    "class par: pass\n",
    "par.beta = 0.98\n",
    "par.rho = 0.5\n",
    "par.R = 1.0/par.beta\n",
    "par.sigma = 0.2\n",
    "par.mu = 0\n",
    "\n",
    "par.T = 10\n",
    "par.num_M = 50\n",
    "par.M_max = 10\n",
    "par.num_shocks = 5\n",
    "par.grid_M = tools.nonlinspace(1.0e-6,par.M_max,par.num_M,1.1) # non-linear spaced points: like np.linspace with unequal spacing\n",
    "\n",
    "# load Gauss-Hermite!\n",
    "x,w = tools.gauss_hermite(par.num_shocks)\n",
    "par.eps = np.exp(par.sigma*np.sqrt(2)*x)\n",
    "par.eps_w = w/np.sqrt(np.pi)\n",
    "\n",
    "# demographics\n",
    "par.theta0 = 0\n",
    "par.theta1 = 0.2\n",
    "par.N = 2\n",
    "\n",
    "# solve the model\n",
    "sol = model.solve_consumption(par)\n"
   ]
  },
  {
   "cell_type": "code",
   "execution_count": 3,
   "metadata": {},
   "outputs": [
    {
     "data": {
      "image/png": "[encoded data removed]",
      "text/plain": [
       "<Figure size 720x288 with 2 Axes>"
      ]
     },
     "metadata": {},
     "output_type": "display_data"
    }
   ],
   "source": [
    "# Define a function for the solution\n",
    "def plot_solution(sol,par,t):\n",
    "    fig = plt.figure(figsize=(10,4))# figsize is in inches...\n",
    "    \n",
    "    ax = fig.add_subplot(1,2,1)\n",
    "    ax.scatter(par.grid_M,sol.V[t])\n",
    "    ax.set_xlabel(f\"$M_{t+1}$\")\n",
    "    ax.set_ylabel(f\"$V_{t+1}$\")\n",
    "\n",
    "    ax_right = fig.add_subplot(1,2,2)\n",
    "    ax_right.plot(par.grid_M,sol.C1[t])\n",
    "    ax_right.plot(par.grid_M,sol.C2[t])\n",
    "    ax_right.plot(par.grid_M,par.grid_M,color='black',linestyle='dashed')\n",
    "    ax_right.set_xlabel(f\"$M_{t+1}$\")\n",
    "    ax_right.set_ylabel(f\"$C_{t+1}$\")\n",
    "    ax_right.legend(['$C_1$', '$C_2$'])\n",
    "    plt.show()\n",
    "\n",
    "plot_solution(sol,par,0)\n"
   ]
  },
  {
   "cell_type": "markdown",
   "metadata": {},
   "source": [
    "### 2. Simulate a panel of *N* household for *T* periods and plot the mean of $C_t$. Everybody should be initialized with $M_t = 1.5$"
   ]
  },
  {
   "cell_type": "code",
   "execution_count": 54,
   "metadata": {},
   "outputs": [],
   "source": [
    "# Set-up\n",
    "par.simN = 10000\n",
    "par.M_ini = 1.5\n",
    "\n",
    "# Allocate\n",
    "class sim: pass\n",
    "shape = (par.T, par.simN)\n",
    "sim.M = par.M_ini*np.ones(shape)\n",
    "sim.C1 = np.nan +np.zeros(shape)\n",
    "sim.C2 = np.nan +np.zeros(shape)\n",
    "\n",
    "# Simulate \n",
    "np.random.seed(2020)  #Seed value, it ensures that the computer draw the same \"random\"-numbers each time\n",
    "\n",
    "for t in range(par.T):\n",
    "    sim.C1[t,:] = tools.interp_linear_1d(par.grid_M, sol.C1[t,:],sim.M[t,:])\n",
    "    sim.C2[t,:] = tools.interp_linear_1d(par.grid_M, sol.C2[t,:],sim.M[t,:])  # Find consumption given states\n",
    "    \n",
    "    if t<par.T-1:  # if not last period\n",
    "        logY = np.random.normal(par.mu,par.sigma,par.simN)  # It draws random numbers from the normal distirbution\n",
    "        Y = np.exp(logY)\n",
    "        A = sim.M[t,:]-sim.C1[t,:]-sim.C2[t,:]\n",
    "        \n",
    "        sim.M[t+1,:] = par.R*A + Y # The state in the following period\n",
    "     \n"
   ]
  },
  {
   "cell_type": "markdown",
   "metadata": {},
   "source": [
    "### 3. Check that the average of $C_t$ is weakly increasing over time."
   ]
  },
  {
   "cell_type": "code",
   "execution_count": 55,
   "metadata": {},
   "outputs": [
    {
     "data": {
      "image/png": "[encoded data removed]",
      "text/plain": [
       "<Figure size 720x288 with 1 Axes>"
      ]
     },
     "metadata": {},
     "output_type": "display_data"
    }
   ],
   "source": [
    "# Define a function for the simulation\n",
    "def figure_sim(simC1,simC2,par):\n",
    "    fig = plt.figure(figsize=(10,4))# figsize is in inches...\n",
    "    t_grid = [t for t in range(1,par.T+1)]    \n",
    "    ax = fig.add_subplot(1,1,1)\n",
    "    ax.plot(t_grid,np.mean(simC1,1),'-o')\n",
    "    ax.plot(t_grid,np.mean(simC2,1),'-o')\n",
    "    ax.set_xlabel(f\"t\")\n",
    "    ax.set_ylabel(f\"Mean of consumption\")\n",
    "    #ax.set_ylim(bottom=0.5,top=0.6)\n",
    "    ax.legend([\"$\\\\bar C_1$\", \"$\\\\bar C_2$\"])\n",
    "    plt.show()\n",
    "    \n",
    "figure_sim(sim.C1,sim.C2,par)"
   ]
  },
  {
   "cell_type": "markdown",
   "metadata": {},
   "source": [
    "### 4. Check that if you temporarily set $\\sigma_{\\xi} = 0$ then average $C_t$ is constant over time."
   ]
  },
  {
   "cell_type": "code",
   "execution_count": 56,
   "metadata": {},
   "outputs": [
    {
     "data": {
      "image/png": "[encoded data removed]",
      "text/plain": [
       "<Figure size 720x288 with 1 Axes>"
      ]
     },
     "metadata": {},
     "output_type": "display_data"
    }
   ],
   "source": [
    "# We copy the class par and set sigma = 0\n",
    "par_sigma_zero = type('CopyOfpar', par.__bases__, dict(par.__dict__)) \n",
    "par_sigma_zero.sigma = 0\n",
    "\n",
    "\n",
    "# load Gauss-Hermite\n",
    "x,w = tools.gauss_hermite(par_sigma_zero.num_shocks)\n",
    "par_sigma_zero.eps = np.exp(par_sigma_zero.sigma*np.sqrt(2)*x)\n",
    "par_sigma_zero.eps_w = w/np.sqrt(np.pi)\n",
    "\n",
    "# solve model\n",
    "sol_sigma_zero = model.solve_consumption(par_sigma_zero)\n",
    "\n",
    "# Simulate\n",
    "#Define a function\n",
    "def simulate (par,sol):\n",
    "    \n",
    "    # Initialize\n",
    "    class sim: pass\n",
    "    shape = (par.T, par.simN)\n",
    "    sim.M = par.M_ini*np.ones(shape)\n",
    "    sim.C1 = np.nan +np.zeros(shape)\n",
    "    sim.C2 = np.nan +np.zeros(shape)\n",
    "\n",
    "    # Simulate \n",
    "    for t in range(par.T):\n",
    "        sim.C1[t,:] = tools.interp_linear_1d(par.grid_M, sol.C1[t,:],sim.M[t,:])  #It finds consumption given states\n",
    "        sim.C2[t,:] = tools.interp_linear_1d(par.grid_M, sol.C2[t,:],sim.M[t,:])  #It finds consumption given states\n",
    "    \n",
    "        if t<par.T-1:  # if not last period\n",
    "            logY = np.random.normal(par.mu,par.sigma,par.simN)  # It draws random numbers from the normal distirbution\n",
    "            Y = np.exp(logY)\n",
    "            A = sim.M[t,:]-sim.C1[t,:] - sim.C2[t,:]\n",
    "        \n",
    "            sim.M[t+1,:] = par.R*A + Y # The state in the following period\n",
    "            \n",
    "     \n",
    "    return sim\n",
    "\n",
    "\n",
    "sim_sigma_zero = simulate(par_sigma_zero,sol_sigma_zero)\n",
    "\n",
    "# Figure\n",
    "figure_sim(sim_sigma_zero.C1,sim_sigma_zero.C2,par_sigma_zero)\n"
   ]
  },
  {
   "cell_type": "markdown",
   "metadata": {},
   "source": [
    "### 5. Plot the value and consumption functions for multiple t – do you see any pattern?"
   ]
  },
  {
   "cell_type": "code",
   "execution_count": null,
   "metadata": {},
   "outputs": [],
   "source": [
    "fig = plt.figure(figsize=(20,5))# figsize is in inches...\n",
    "\n",
    "ax = fig.add_subplot(1,2,1)\n",
    "for t in range(par.T):\n",
    "    ax.plot(par.grid_M,sol.V[t], label=f't = {t+1}')\n",
    "ax.set_xlabel(f\"$M_t$\")\n",
    "ax.set_ylabel(f\"$V_t$\")\n",
    "ax.set_title(f'Value function')\n",
    "plt.legend(loc=2, ncol=3)\n",
    "\n",
    "ax_right = fig.add_subplot(1,2,2)\n",
    "for t in range(par.T):\n",
    "    ax_right.plot(par.grid_M,sol.C[t], label=f't =  {t+1}')\n",
    "ax_right.set_xlabel(f\"$M_t$\")\n",
    "ax_right.set_ylabel(f\"$C_t$\")\n",
    "ax_right.set_title(f'Consumption function')\n",
    "plt.legend()\n",
    "\n",
    "plt.show()"
   ]
  },
  {
   "cell_type": "markdown",
   "metadata": {},
   "source": [
    "### 6. Calculate the Euler-error \n",
    "\n",
    "\n",
    "$$\\begin{eqnarray*}\n",
    " \\frac{1}{\\sum_{i=1}^{N}\\sum_{t=1}^{T}  \\mathbb{1}_{\\{0<C_1<M_{it}\\}}}\\sum_{i=1}^{N}\\sum_{t=1}^{T} \\mathbb{1}_{\\{0<C_1<M_{it}\\}} |\\varepsilon_{it}|\n",
    " \\end{eqnarray*}$$\n",
    " where\n",
    "\n",
    "$$\\begin{eqnarray*}\n",
    "  \\varepsilon_{it} \\approx u'(C_{it})-\\beta R \\sum_{j=1}^{S} \\omega_j \\Big[u'\\big(C_{t+1}^{\\star}(R(M_{it}-C_{it})+Y_j)\\big)\\Big]\n",
    " \\end{eqnarray*}$$\n",
    " \n",
    " and $\\omega_j$ are the Gauss-Hermite weights and $Y_j$ are the associated income nodes."
   ]
  },
  {
   "cell_type": "code",
   "execution_count": 6,
   "metadata": {},
   "outputs": [
    {
     "name": "stdout",
     "output_type": "stream",
     "text": [
      "The Euler error:    0.0029\n"
     ]
    }
   ],
   "source": [
    "# Define the marginal utility\n",
    "def marg_util(C,par):\n",
    "    y = C**(-par.rho);\n",
    "    return y\n",
    "\n",
    "\n",
    "# 1. Solve the model\n",
    "sol = model.solve_consumption(par)\n",
    "\n",
    "# 2. simulate\n",
    "sim = simulate(par,sol)\n",
    "\n",
    "# 3. Calculate the Euler residual\n",
    "Euler_residual = np.nan + np.zeros((par.T-1,par.simN))  # Allocate space\n",
    "A = np.nan + np.zeros((par.T-1,par.simN))               # Allocate space\n",
    "\n",
    "for t in range(par.T-1):   # Sum over t (and the sum over N happens in vector notation)\n",
    "    \n",
    "    # Initialize\n",
    "    M_next = par.grid_M\n",
    "    C_next = sol.C[t+1,:]\n",
    "\n",
    "    m = sim.M[t,:]\n",
    "    c = sim.C[t,:]\n",
    "    A[t,:] = m-c\n",
    "\n",
    "    sum_mu = 0.0 # the sum of marginal utility\n",
    "    \n",
    "    for s,Y in enumerate(par.eps): #Loop over the G-H notes\n",
    "        \n",
    "        #Next period\n",
    "        M_plus = par.R*A[t,:] + Y\n",
    "        C_plus = tools.interp_linear_1d(M_next,C_next,M_plus) \n",
    "    \n",
    "        marg_Cplus = marg_util(C_plus,par)\n",
    "        \n",
    "        # weight on the shock \n",
    "        w = par.eps_w[s]\n",
    "\n",
    "        sum_mu +=w*marg_Cplus \n",
    "    \n",
    "    Euler_residual[t,:] = marg_util(c,par)-par.beta*par.R*sum_mu\n",
    "\n",
    "# 4. Calculate the average absolute euler residual\n",
    "I = (A>0)   # Define an indicator for A bigger than 0 (M>C)\n",
    "Euler_error = np.mean(abs(Euler_residual[I]))\n",
    "\n",
    "\n",
    "print(f'The Euler error:    {Euler_error:.4f}')"
   ]
  },
  {
   "cell_type": "markdown",
   "metadata": {},
   "source": [
    "### 7. Likewise calculate the normalized Euler-error\n",
    "\n",
    "\n",
    "$$\\begin{eqnarray*}\n",
    " \\frac{1}{\\sum_{i=1}^{N}\\sum_{t=1}^{T} \\mathbb{1}_{\\{0<C_1<M_{it}\\}}}\\sum_{i=1}^{N}\\sum_{t=1}^{T} log_{10}(|\\varepsilon_{it}| / C_{it}) \\mathbb{1}_{0<C_1<M_{it}} \n",
    " \\end{eqnarray*}$$\n",
    "\n",
    "and discuss what this implies for the accuracy of the solution."
   ]
  },
  {
   "cell_type": "code",
   "execution_count": 7,
   "metadata": {},
   "outputs": [
    {
     "name": "stdout",
     "output_type": "stream",
     "text": [
      "The Normalized Euler error:    -2.8599\n"
     ]
    }
   ],
   "source": [
    "C =(sim.C[0:par.T-1,:])  # The euler error is not defined in last period\n",
    "\n",
    "nom_Euler_error = np.log10(abs(Euler_residual[I])/(C[I]))   \n",
    "nom_Euler_error = np.mean(nom_Euler_error)\n",
    "\n",
    "\n",
    "print(f'The Normalized Euler error:    {nom_Euler_error:.4f}')"
   ]
  },
  {
   "cell_type": "markdown",
   "metadata": {},
   "source": [
    "### 8. Look at how the Euler-errors change when you vary the number of grid points. *Ensure that you are able to get an normalized Euler error smaller than at least $−3.0$*."
   ]
  },
  {
   "cell_type": "code",
   "execution_count": 8,
   "metadata": {},
   "outputs": [],
   "source": [
    "# Define functions\n",
    "\n",
    "#Function for Setup\n",
    "def setup():\n",
    "    class par: pass\n",
    "    par.beta = 0.98\n",
    "    par.rho = 0.5\n",
    "    par.R = 1.0/par.beta\n",
    "    par.sigma = 0.2\n",
    "    par.mu = 0\n",
    "\n",
    "    par.T = 10\n",
    "    par.num_M = 50\n",
    "    par.num_shocks = 5\n",
    "    par.grid_M = tools.nonlinspace(1.0e-6,10,par.num_M,1.1) # non-linear spaced points: like np.linspace with unequal spacing\n",
    "\n",
    "    # Simulation parameters\n",
    "    par.simN = 10000\n",
    "    par.M_ini = 1.5\n",
    "\n",
    "    #Gauss-Hermite\n",
    "    x,w = tools.gauss_hermite(par.num_shocks)\n",
    "    par.eps = np.exp(par.sigma*np.sqrt(2)*x)\n",
    "    par.eps_w = w/np.sqrt(np.pi)\n",
    "    \n",
    "    return par\n",
    "\n",
    "#Function for Euler Error\n",
    "def Euler_error(par, sol, sim):\n",
    "    Euler_residual = np.nan + np.zeros((par.T-1,par.simN))\n",
    "    A = np.nan + np.zeros((par.T-1,par.simN))\n",
    "\n",
    "    for t in range(par.T-1): # Sum over t (and the sum over N happens in vector notation)\n",
    "        M_next = par.grid_M\n",
    "        C_next = sol.C[t+1,:]\n",
    "\n",
    "        m = sim.M[t,:]\n",
    "        c = sim.C[t,:]\n",
    "        A[t,:] = m-c\n",
    "\n",
    "        sum_mu = 0.0\n",
    "        for s,Y in enumerate(par.eps): #Loop over the G-H notes\n",
    "        \n",
    "            M_plus = par.R*A[t,:] + Y\n",
    "            C_plus = tools.interp_linear_1d(M_next,C_next,M_plus) \n",
    "    \n",
    "            marg_Cplus = marg_util(C_plus,par)\n",
    "            # weight on the shock \n",
    "            w = par.eps_w[s]\n",
    "\n",
    "            sum_mu +=w*marg_Cplus \n",
    "    \n",
    "        Euler_residual[t,:] = marg_util(c,par)-par.beta*par.R*sum_mu\n",
    "    \n",
    "    \n",
    "    I = (A>0)   \n",
    "    Euler_error = np.mean(abs(Euler_residual[I]))\n",
    "    \n",
    "    C =(sim.C[0:par.T-1,:])\n",
    "\n",
    "    nom_Euler_error = np.log10(abs(Euler_residual[I])/(C[I]))   \n",
    "    nom_Euler_error = np.mean(nom_Euler_error)\n",
    "    \n",
    "    print(f'Number of grid points:         {pars.num_M} ')\n",
    "    print(f'The Euler error:               {Euler_error:.4f}')\n",
    "    print(f'The Normalized Euler error:    {nom_Euler_error:.4f}', end ='\\n\\n')"
   ]
  },
  {
   "cell_type": "code",
   "execution_count": 9,
   "metadata": {},
   "outputs": [
    {
     "name": "stdout",
     "output_type": "stream",
     "text": [
      "Number of grid points:         10 \n",
      "The Euler error:               0.0216\n",
      "The Normalized Euler error:    -1.9643\n",
      "\n",
      "Number of grid points:         20 \n",
      "The Euler error:               0.0097\n",
      "The Normalized Euler error:    -2.3872\n",
      "\n",
      "Number of grid points:         40 \n",
      "The Euler error:               0.0039\n",
      "The Normalized Euler error:    -2.8104\n",
      "\n",
      "Number of grid points:         50 \n",
      "The Euler error:               0.0028\n",
      "The Normalized Euler error:    -2.8610\n",
      "\n",
      "Number of grid points:         70 \n",
      "The Euler error:               0.0021\n",
      "The Normalized Euler error:    -2.9773\n",
      "\n",
      "Number of grid points:         100 \n",
      "The Euler error:               0.0013\n",
      "The Normalized Euler error:    -3.2439\n",
      "\n",
      "Number of grid points:         1000 \n",
      "The Euler error:               0.0001\n",
      "The Normalized Euler error:    -4.0807\n",
      "\n"
     ]
    }
   ],
   "source": [
    "# Find the Euler Error for different grid points\n",
    "\n",
    "#Array of grid points    \n",
    "grid_points = [10,20,40,50,70,100,1000]\n",
    "\n",
    "for i,grid_point in enumerate(grid_points):\n",
    "    # setup\n",
    "    pars = setup()\n",
    "    pars.num_M = grid_point\n",
    "    pars.grid_M = tools.nonlinspace(1.0e-6,10,pars.num_M,1.1) # non-linear spaced points: like np.linspace with unequal spacing\n",
    "\n",
    "    # solve\n",
    "    sols = model.solve_consumption(pars)\n",
    "\n",
    "    # simulate\n",
    "    sims = simulate(pars,sols)\n",
    "\n",
    "    # calculate the errors\n",
    "    Euler_error(pars, sols, sims)"
   ]
  },
  {
   "cell_type": "code",
   "execution_count": null,
   "metadata": {},
   "outputs": [],
   "source": []
  }
 ],
 "metadata": {
  "kernelspec": {
   "display_name": "Python 3",
   "language": "python",
   "name": "python3"
  },
  "language_info": {
   "codemirror_mode": {
    "name": "ipython",
    "version": 3
   },
   "file_extension": ".py",
   "mimetype": "text/x-python",
   "name": "python",
   "nbconvert_exporter": "python",
   "pygments_lexer": "ipython3",
   "version": "3.9.4"
  },
  "varInspector": {
   "cols": {
    "lenName": 16,
    "lenType": 16,
    "lenVar": 40
   },
   "kernels_config": {
    "python": {
     "delete_cmd_postfix": "",
     "delete_cmd_prefix": "del ",
     "library": "var_list.py",
     "varRefreshCmd": "print(var_dic_list())"
    },
    "r": {
     "delete_cmd_postfix": ") ",
     "delete_cmd_prefix": "rm(",
     "library": "var_list.r",
     "varRefreshCmd": "cat(var_dic_list()) "
    }
   },
   "types_to_exclude": [
    "module",
    "function",
    "builtin_function_or_method",
    "instance",
    "_Feature"
   ],
   "window_display": false
  }
 },
 "nbformat": 4,
 "nbformat_minor": 4
}
