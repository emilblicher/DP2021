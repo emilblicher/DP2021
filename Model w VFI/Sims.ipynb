{
 "cells": [
  {
   "cell_type": "code",
   "execution_count": 68,
   "id": "f2b29a26-7e03-4812-b684-4e78f3274c80",
   "metadata": {},
   "outputs": [
    {
     "name": "stdout",
     "output_type": "stream",
     "text": [
      "The autoreload extension is already loaded. To reload it, use:\n",
      "  %reload_ext autoreload\n"
     ]
    }
   ],
   "source": [
    "# magics: ensures that any changes to the modules loaded below will be re-loaded automatically\n",
    "%load_ext autoreload\n",
    "%autoreload 2\n",
    "\n",
    "# load general packages\n",
    "import numpy as np\n",
    "import matplotlib.pyplot as plt\n",
    "plt.style.use('seaborn-whitegrid')\n",
    "import pandas as pd\n",
    "import tools\n",
    "\n",
    "# load modules related to this exercise\n",
    "import model_project as model"
   ]
  },
  {
   "cell_type": "code",
   "execution_count": 69,
   "id": "86a631f2",
   "metadata": {},
   "outputs": [],
   "source": [
    "### children probabilities ###\n",
    "\n",
    "# 1. settings\n",
    "age_min = 25 # age at which the model starts\n",
    "age_fer = 45 # maximum age of fertility\n",
    "T = 35       # maximum periods from age_min needed to solve the model\n",
    "num_n = 3    # maximum number of children\n",
    "\n",
    "# 2. Child arrival probabilities\n",
    "# i. allocate memory\n",
    "shape = (num_n+1,T+1)\n",
    "p = np.nan + np.zeros(shape)\n",
    "\n",
    "# ii. load calibrations\n",
    "birth_df = pd.read_excel('cali_birth_prob.xls') \n",
    "birth_df = birth_df.groupby(['nkids','age']).mean().reset_index()\n",
    "\n",
    "# iii. Pick out relevant based on age and number of children\n",
    "age_grid = np.array([age for age in range(age_min,age_min+T+1)])\n",
    "for n in range(num_n+1):\n",
    "    for iage,age in enumerate(age_grid):\n",
    "        p[n,iage] = birth_df.loc[ (birth_df['age']==age) & (birth_df['nkids']==n) ,['birth']].to_numpy()\n",
    "\n",
    "        if (age>age_fer) or (n==(num_n)):\n",
    "            p[n,iage] = 0.0"
   ]
  },
  {
   "cell_type": "code",
   "execution_count": 71,
   "id": "30df029e-b955-459b-b3f4-be2bf476ec39",
   "metadata": {},
   "outputs": [],
   "source": [
    "# solve the model\n",
    "par = model.setup()\n",
    "par.theta0 = 0\n",
    "par.theta1 = 0.2\n",
    "par.N = 3\n",
    "\n",
    "par = model.create_grids(par)\n",
    "sol = model.solve(par)"
   ]
  },
  {
   "cell_type": "code",
   "execution_count": 20,
   "id": "0c922920-570f-4639-ab68-1eb507d03180",
   "metadata": {},
   "outputs": [
    {
     "data": {
      "image/png": "[encoded data removed]",
      "text/plain": [
       "<Figure size 720x288 with 2 Axes>"
      ]
     },
     "metadata": {},
     "output_type": "display_data"
    }
   ],
   "source": [
    "# Define a function for the solution\n",
    "def plot_solution(sol,par,t):\n",
    "    fig = plt.figure(figsize=(10,4))# figsize is in inches...\n",
    "    \n",
    "    ax = fig.add_subplot(1,2,1)\n",
    "    ax.scatter(par.grid_M,sol.V[t])\n",
    "    ax.set_xlabel(f\"$M_{t+1}$\")\n",
    "    ax.set_ylabel(f\"$V_{t+1}$\")\n",
    "\n",
    "    ax_right = fig.add_subplot(1,2,2)\n",
    "    ax_right.plot(par.grid_M,sol.c1[t])\n",
    "    ax_right.plot(par.grid_M,sol.c2[t])\n",
    "    ax_right.plot(par.grid_M,par.grid_M,color='black',linestyle='dashed')\n",
    "    ax_right.set_xlabel(f\"$M_{t+1}$\")\n",
    "    ax_right.set_ylabel(f\"$C_{t+1}$\")\n",
    "    ax_right.legend(['$C_1$','$C_2$'])\n",
    "    plt.show()\n",
    "\n",
    "plot_solution(sol,par,0)"
   ]
  },
  {
   "cell_type": "code",
   "execution_count": null,
   "id": "f14a9aa7",
   "metadata": {},
   "outputs": [],
   "source": []
  }
 ],
 "metadata": {
  "kernelspec": {
   "display_name": "Python 3",
   "language": "python",
   "name": "python3"
  },
  "language_info": {
   "codemirror_mode": {
    "name": "ipython",
    "version": 3
   },
   "file_extension": ".py",
   "mimetype": "text/x-python",
   "name": "python",
   "nbconvert_exporter": "python",
   "pygments_lexer": "ipython3",
   "version": "3.9.4"
  },
  "varInspector": {
   "cols": {
    "lenName": 16,
    "lenType": 16,
    "lenVar": 40
   },
   "kernels_config": {
    "python": {
     "delete_cmd_postfix": "",
     "delete_cmd_prefix": "del ",
     "library": "var_list.py",
     "varRefreshCmd": "print(var_dic_list())"
    },
    "r": {
     "delete_cmd_postfix": ") ",
     "delete_cmd_prefix": "rm(",
     "library": "var_list.r",
     "varRefreshCmd": "cat(var_dic_list()) "
    }
   },
   "types_to_exclude": [
    "module",
    "function",
    "builtin_function_or_method",
    "instance",
    "_Feature"
   ],
   "window_display": false
  }
 },
 "nbformat": 4,
 "nbformat_minor": 5
}
